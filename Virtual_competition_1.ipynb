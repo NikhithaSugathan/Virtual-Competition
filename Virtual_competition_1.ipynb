{
  "cells": [
    {
      "cell_type": "markdown",
      "metadata": {
        "id": "Hmt5hLSnFuQ-"
      },
      "source": [
        "Consider the following Python dictionary `data` and Python list `labels`:\n",
        "\n",
        "``` python\n",
        "data = {'animal': ['cat', 'cat', 'snake', 'dog', 'dog', 'cat', 'snake', 'cat', 'dog', 'dog'],\n",
        "        'age': [2.5, 3, 0.5, np.nan, 5, 2, 4.5, np.nan, 7, 3],\n",
        "        'visits': [1, 3, 2, 3, 2, 3, 1, 1, 2, 1],\n",
        "        'priority': ['yes', 'yes', 'no', 'yes', 'no', 'no', 'no', 'yes', 'no', 'no']}\n",
        "\n",
        "labels = ['a', 'b', 'c', 'd', 'e', 'f', 'g', 'h', 'i', 'j']\n",
        "```\n",
        "\n",
        "**1.** Create a DataFrame `df` from this dictionary `data` which has the index `labels`."
      ]
    },
    {
      "cell_type": "code",
      "execution_count": 1,
      "metadata": {
        "colab": {
          "base_uri": "https://localhost:8080/"
        },
        "id": "i-2HoeEiFuQ_",
        "outputId": "897eb80b-3d9b-4b91-a624-0469425ca6d4"
      },
      "outputs": [
        {
          "output_type": "stream",
          "name": "stdout",
          "text": [
            "  animal  age  visits priority\n",
            "a    cat  2.5       1      yes\n",
            "b    cat  3.0       3      yes\n",
            "c  snake  0.5       2       no\n",
            "d    dog  NaN       3      yes\n",
            "e    dog  5.0       2       no\n",
            "f    cat  2.0       3       no\n",
            "g  snake  4.5       1       no\n",
            "h    cat  NaN       1      yes\n",
            "i    dog  7.0       2       no\n",
            "j    dog  3.0       1       no\n"
          ]
        }
      ],
      "source": [
        "import pandas as pd\n",
        "import numpy as np\n",
        "\n",
        "data = {'animal': ['cat', 'cat', 'snake', 'dog', 'dog', 'cat', 'snake', 'cat', 'dog', 'dog'],\n",
        "        'age': [2.5, 3, 0.5, np.nan, 5, 2, 4.5, np.nan, 7, 3],\n",
        "        'visits': [1, 3, 2, 3, 2, 3, 1, 1, 2, 1],\n",
        "        'priority': ['yes', 'yes', 'no', 'yes', 'no', 'no', 'no', 'yes', 'no', 'no']}\n",
        "\n",
        "labels = ['a', 'b', 'c', 'd', 'e', 'f', 'g', 'h', 'i', 'j']\n",
        "\n",
        "df = pd.DataFrame(data, index=labels)\n",
        "print(df)\n"
      ]
    },
    {
      "cell_type": "markdown",
      "metadata": {
        "id": "IpKnDID_FuRB"
      },
      "source": [
        "**2.** Display a summary of the basic information about this DataFrame and its data (*hint: there is a single method that can be called on the DataFrame*)."
      ]
    },
    {
      "cell_type": "code",
      "execution_count": 2,
      "metadata": {
        "id": "gcovPS3rFuRC",
        "colab": {
          "base_uri": "https://localhost:8080/"
        },
        "outputId": "4e57f907-1bb3-4cd9-af5a-7548e2bb9780"
      },
      "outputs": [
        {
          "output_type": "stream",
          "name": "stdout",
          "text": [
            "<class 'pandas.core.frame.DataFrame'>\n",
            "Index: 10 entries, a to j\n",
            "Data columns (total 4 columns):\n",
            " #   Column    Non-Null Count  Dtype  \n",
            "---  ------    --------------  -----  \n",
            " 0   animal    10 non-null     object \n",
            " 1   age       8 non-null      float64\n",
            " 2   visits    10 non-null     int64  \n",
            " 3   priority  10 non-null     object \n",
            "dtypes: float64(1), int64(1), object(2)\n",
            "memory usage: 700.0+ bytes\n"
          ]
        }
      ],
      "source": [
        "df.info()"
      ]
    },
    {
      "cell_type": "markdown",
      "metadata": {
        "id": "ab1u4T55FuRC"
      },
      "source": [
        "**3.** Return the first 3 rows of the DataFrame `df`."
      ]
    },
    {
      "cell_type": "code",
      "execution_count": 3,
      "metadata": {
        "id": "uIcy04PCFuRD",
        "colab": {
          "base_uri": "https://localhost:8080/"
        },
        "outputId": "83ec22d4-a49b-4cfc-a80d-dd70bb601e42"
      },
      "outputs": [
        {
          "output_type": "stream",
          "name": "stdout",
          "text": [
            "  animal  age  visits priority\n",
            "a    cat  2.5       1      yes\n",
            "b    cat  3.0       3      yes\n",
            "c  snake  0.5       2       no\n"
          ]
        }
      ],
      "source": [
        "print(df.head(3))"
      ]
    },
    {
      "cell_type": "markdown",
      "metadata": {
        "id": "Insh_QRrFuRD"
      },
      "source": [
        "**4.** Display the 'animal' and 'age' columns from the DataFrame `df`"
      ]
    },
    {
      "cell_type": "code",
      "execution_count": 4,
      "metadata": {
        "id": "pJ-PHmJ5FuRE",
        "colab": {
          "base_uri": "https://localhost:8080/"
        },
        "outputId": "a3b20896-deb2-46a3-8f69-2f30040aa600"
      },
      "outputs": [
        {
          "output_type": "stream",
          "name": "stdout",
          "text": [
            "  animal  age\n",
            "a    cat  2.5\n",
            "b    cat  3.0\n",
            "c  snake  0.5\n",
            "d    dog  NaN\n",
            "e    dog  5.0\n",
            "f    cat  2.0\n",
            "g  snake  4.5\n",
            "h    cat  NaN\n",
            "i    dog  7.0\n",
            "j    dog  3.0\n"
          ]
        }
      ],
      "source": [
        "columns = df[['animal', 'age']]\n",
        "print(columns)"
      ]
    },
    {
      "cell_type": "markdown",
      "metadata": {
        "id": "xRORUgdwFuRE"
      },
      "source": [
        "**5.** Display the data in rows `[3, 4, 8]` *and* in columns `['animal', 'age']'"
      ]
    },
    {
      "cell_type": "code",
      "execution_count": 5,
      "metadata": {
        "id": "8Yx-a5yyFuRF",
        "colab": {
          "base_uri": "https://localhost:8080/"
        },
        "outputId": "b5b7cd21-92fe-4ebc-bfce-2464e33cd94b"
      },
      "outputs": [
        {
          "output_type": "stream",
          "name": "stdout",
          "text": [
            "  animal  age\n",
            "d    dog  NaN\n",
            "e    dog  5.0\n",
            "i    dog  7.0\n"
          ]
        }
      ],
      "source": [
        "data = df.loc[['d', 'e', 'i'], ['animal', 'age']]\n",
        "print(data)"
      ]
    },
    {
      "cell_type": "markdown",
      "metadata": {
        "id": "EwxrthzwFuRF"
      },
      "source": [
        "**6.** Select only the rows where the number of visits is greater than 3."
      ]
    },
    {
      "cell_type": "code",
      "execution_count": 6,
      "metadata": {
        "id": "J8tm9hpcFuRF",
        "colab": {
          "base_uri": "https://localhost:8080/"
        },
        "outputId": "976af204-5d8e-4930-993c-fddf00d8147e"
      },
      "outputs": [
        {
          "output_type": "stream",
          "name": "stdout",
          "text": [
            "Empty DataFrame\n",
            "Columns: [animal, age, visits, priority]\n",
            "Index: []\n"
          ]
        }
      ],
      "source": [
        "rows = df[df['visits'] > 3]\n",
        "print(rows)"
      ]
    },
    {
      "cell_type": "markdown",
      "source": [
        "There are no rows where the number of visits is greater than 3"
      ],
      "metadata": {
        "id": "gM_YzL7LOo58"
      }
    },
    {
      "cell_type": "markdown",
      "metadata": {
        "id": "2XhJNfmKFuRF"
      },
      "source": [
        "**7.** Select the rows where the age is missing, i.e. it is `NaN`."
      ]
    },
    {
      "cell_type": "code",
      "execution_count": 7,
      "metadata": {
        "id": "0D0NW1Y-FuRG",
        "colab": {
          "base_uri": "https://localhost:8080/"
        },
        "outputId": "0d289fae-381a-470b-adfb-15304c6fa1bb"
      },
      "outputs": [
        {
          "output_type": "stream",
          "name": "stdout",
          "text": [
            "  animal  age  visits priority\n",
            "d    dog  NaN       3      yes\n",
            "h    cat  NaN       1      yes\n"
          ]
        }
      ],
      "source": [
        "missing_age = df[pd.isna(df['age'])]\n",
        "print(missing_age)"
      ]
    },
    {
      "cell_type": "markdown",
      "metadata": {
        "id": "mjT1t30pFuRG"
      },
      "source": [
        "**8.** Select the rows where the animal is a cat *and* the age is less than 3."
      ]
    },
    {
      "cell_type": "code",
      "execution_count": 8,
      "metadata": {
        "id": "llayTxaVFuRG",
        "colab": {
          "base_uri": "https://localhost:8080/"
        },
        "outputId": "c86736e7-a93c-481d-e819-25150991f402"
      },
      "outputs": [
        {
          "output_type": "stream",
          "name": "stdout",
          "text": [
            "  animal  age  visits priority\n",
            "a    cat  2.5       1      yes\n",
            "f    cat  2.0       3       no\n"
          ]
        }
      ],
      "source": [
        "rows = df[(df['animal'] == 'cat') & (df['age'] < 3)]\n",
        "print(rows)"
      ]
    },
    {
      "cell_type": "markdown",
      "metadata": {
        "id": "TpFIIG6YFuRG"
      },
      "source": [
        "**9.** Select the rows where the age is between 2 and 4 (inclusive)"
      ]
    },
    {
      "cell_type": "code",
      "execution_count": 9,
      "metadata": {
        "id": "DSg6DgMSFuRH",
        "colab": {
          "base_uri": "https://localhost:8080/"
        },
        "outputId": "e808082e-a3a3-45bf-c587-c29f04735f9d"
      },
      "outputs": [
        {
          "output_type": "stream",
          "name": "stdout",
          "text": [
            "  animal  age  visits priority\n",
            "a    cat  2.5       1      yes\n",
            "b    cat  3.0       3      yes\n",
            "f    cat  2.0       3       no\n",
            "j    dog  3.0       1       no\n"
          ]
        }
      ],
      "source": [
        "rows = df[(df['age'] >= 2) & (df['age'] <= 4)]\n",
        "print(rows)"
      ]
    },
    {
      "cell_type": "markdown",
      "metadata": {
        "id": "hpRQ38reFuRH"
      },
      "source": [
        "**10.** Change the age in row 'f' to 1.5."
      ]
    },
    {
      "cell_type": "code",
      "execution_count": 10,
      "metadata": {
        "id": "_YMVhJ8vFuRH",
        "colab": {
          "base_uri": "https://localhost:8080/"
        },
        "outputId": "8dc8d006-1ed8-4b24-9697-6dc66e17be1e"
      },
      "outputs": [
        {
          "output_type": "stream",
          "name": "stdout",
          "text": [
            "  animal  age  visits priority\n",
            "a    cat  2.5       1      yes\n",
            "b    cat  3.0       3      yes\n",
            "c  snake  0.5       2       no\n",
            "d    dog  NaN       3      yes\n",
            "e    dog  5.0       2       no\n",
            "f    cat  1.5       3       no\n",
            "g  snake  4.5       1       no\n",
            "h    cat  NaN       1      yes\n",
            "i    dog  7.0       2       no\n",
            "j    dog  3.0       1       no\n"
          ]
        }
      ],
      "source": [
        "df.loc['f', 'age'] = 1.5\n",
        "print(df)"
      ]
    },
    {
      "cell_type": "markdown",
      "metadata": {
        "id": "hBWRarrFFuRH"
      },
      "source": [
        "**11.** Calculate the sum of all visits in `df` (i.e. the total number of visits)."
      ]
    },
    {
      "cell_type": "code",
      "execution_count": 11,
      "metadata": {
        "id": "f68JlP6vFuRH",
        "colab": {
          "base_uri": "https://localhost:8080/"
        },
        "outputId": "6d5c07db-8551-4f7a-b814-0999dd5091e2"
      },
      "outputs": [
        {
          "output_type": "stream",
          "name": "stdout",
          "text": [
            "19\n"
          ]
        }
      ],
      "source": [
        "total_visits = df['visits'].sum()\n",
        "print(total_visits)"
      ]
    },
    {
      "cell_type": "markdown",
      "metadata": {
        "id": "pS3mMupIFuRH"
      },
      "source": [
        "**12.** Calculate the mean age for each different animal in `df`."
      ]
    },
    {
      "cell_type": "code",
      "execution_count": 12,
      "metadata": {
        "id": "DssyUV8LFuRI",
        "colab": {
          "base_uri": "https://localhost:8080/"
        },
        "outputId": "0e8989e0-ec6f-40b6-9412-7c90d8c7c6e6"
      },
      "outputs": [
        {
          "output_type": "stream",
          "name": "stdout",
          "text": [
            "animal\n",
            "cat      2.333333\n",
            "dog      5.000000\n",
            "snake    2.500000\n",
            "Name: age, dtype: float64\n"
          ]
        }
      ],
      "source": [
        "mean_age = df.groupby('animal')['age'].mean()\n",
        "print(mean_age)"
      ]
    },
    {
      "cell_type": "markdown",
      "metadata": {
        "id": "GMR-Ace2FuRI"
      },
      "source": [
        "**13.** Append a new row 'k' to `df` with your choice of values for each column. Then delete that row to return the original DataFrame."
      ]
    },
    {
      "cell_type": "code",
      "execution_count": 19,
      "metadata": {
        "id": "P8Qfy0a8FuRI",
        "colab": {
          "base_uri": "https://localhost:8080/"
        },
        "outputId": "19d62afc-8885-4526-b5d2-257c24f29928"
      },
      "outputs": [
        {
          "output_type": "stream",
          "name": "stdout",
          "text": [
            "  animal  age  visits priority\n",
            "a    cat  2.5       1      yes\n",
            "b    cat  3.0       3      yes\n",
            "c  snake  0.5       2       no\n",
            "d    dog  NaN       3      yes\n",
            "e    dog  5.0       2       no\n",
            "f    cat  1.5       3       no\n",
            "g  snake  4.5       1       no\n",
            "h    cat  NaN       1      yes\n",
            "i    dog  7.0       2       no\n",
            "j    dog  3.0       1       no\n",
            "k   lion  3.5       2      yes\n"
          ]
        },
        {
          "output_type": "stream",
          "name": "stderr",
          "text": [
            "<ipython-input-19-58a9cd6ec44d>:3: FutureWarning: The frame.append method is deprecated and will be removed from pandas in a future version. Use pandas.concat instead.\n",
            "  df = df.append(pd.Series(new_row, index=df.columns, name='k'))\n"
          ]
        }
      ],
      "source": [
        "#new row k\n",
        "new_row = ['lion', 3.5, 2, 'yes']\n",
        "df = df.append(pd.Series(new_row, index=df.columns, name='k'))\n",
        "#display df with new row\n",
        "print(df)"
      ]
    },
    {
      "cell_type": "code",
      "source": [
        "#delete row k\n",
        "df = df.drop('k')"
      ],
      "metadata": {
        "id": "kkdhZ_58TPoW"
      },
      "execution_count": 20,
      "outputs": []
    },
    {
      "cell_type": "code",
      "source": [
        "# Display the original DataFrame\n",
        "print(df)"
      ],
      "metadata": {
        "colab": {
          "base_uri": "https://localhost:8080/"
        },
        "id": "gAvwbZ_pUEsA",
        "outputId": "21779bf9-9d74-4ef4-ba04-fb20354ad047"
      },
      "execution_count": 21,
      "outputs": [
        {
          "output_type": "stream",
          "name": "stdout",
          "text": [
            "  animal  age  visits priority\n",
            "a    cat  2.5       1      yes\n",
            "b    cat  3.0       3      yes\n",
            "c  snake  0.5       2       no\n",
            "d    dog  NaN       3      yes\n",
            "e    dog  5.0       2       no\n",
            "f    cat  1.5       3       no\n",
            "g  snake  4.5       1       no\n",
            "h    cat  NaN       1      yes\n",
            "i    dog  7.0       2       no\n",
            "j    dog  3.0       1       no\n"
          ]
        }
      ]
    },
    {
      "cell_type": "markdown",
      "metadata": {
        "id": "GjMKZ4POFuRI"
      },
      "source": [
        "**14.** Count the number of each type of animal in `df`."
      ]
    },
    {
      "cell_type": "code",
      "execution_count": 22,
      "metadata": {
        "id": "1ydrxeyNFuRI",
        "colab": {
          "base_uri": "https://localhost:8080/"
        },
        "outputId": "c6ac235b-45ed-4ab7-9f66-5fafdb0f92aa"
      },
      "outputs": [
        {
          "output_type": "stream",
          "name": "stdout",
          "text": [
            "cat      4\n",
            "dog      4\n",
            "snake    2\n",
            "Name: animal, dtype: int64\n"
          ]
        }
      ],
      "source": [
        "animal_count = df['animal'].value_counts()\n",
        "print(animal_count)"
      ]
    },
    {
      "cell_type": "markdown",
      "metadata": {
        "id": "MNBGtMjoFuRI"
      },
      "source": [
        "**15.** Sort `df` first by the values in the 'age' in *decending* order, then by the value in the 'visits' column in *ascending* order (so row `i` should be first, and row `d` should be last)."
      ]
    },
    {
      "cell_type": "code",
      "execution_count": 23,
      "metadata": {
        "id": "76tGccYfFuRJ",
        "colab": {
          "base_uri": "https://localhost:8080/"
        },
        "outputId": "90b720fe-d645-423c-fce9-6b2e98e842a9"
      },
      "outputs": [
        {
          "output_type": "stream",
          "name": "stdout",
          "text": [
            "  animal  age  visits priority\n",
            "i    dog  7.0       2       no\n",
            "e    dog  5.0       2       no\n",
            "g  snake  4.5       1       no\n",
            "j    dog  3.0       1       no\n",
            "b    cat  3.0       3      yes\n",
            "a    cat  2.5       1      yes\n",
            "f    cat  1.5       3       no\n",
            "c  snake  0.5       2       no\n",
            "h    cat  NaN       1      yes\n",
            "d    dog  NaN       3      yes\n"
          ]
        }
      ],
      "source": [
        "df_sort = df.sort_values(by=['age', 'visits'], ascending=[False, True])\n",
        "print(df_sort)"
      ]
    },
    {
      "cell_type": "markdown",
      "metadata": {
        "id": "5VOktn8PFuRJ"
      },
      "source": [
        "**16.** The 'priority' column contains the values 'yes' and 'no'. Replace this column with a column of boolean values: 'yes' should be `True` and 'no' should be `False`."
      ]
    },
    {
      "cell_type": "code",
      "execution_count": 24,
      "metadata": {
        "id": "HUrNuHMfFuRJ",
        "colab": {
          "base_uri": "https://localhost:8080/"
        },
        "outputId": "da9f3b34-ee6a-4688-cc16-960afbca3754"
      },
      "outputs": [
        {
          "output_type": "stream",
          "name": "stdout",
          "text": [
            "  animal  age  visits  priority\n",
            "a    cat  2.5       1      True\n",
            "b    cat  3.0       3      True\n",
            "c  snake  0.5       2     False\n",
            "d    dog  NaN       3      True\n",
            "e    dog  5.0       2     False\n",
            "f    cat  1.5       3     False\n",
            "g  snake  4.5       1     False\n",
            "h    cat  NaN       1      True\n",
            "i    dog  7.0       2     False\n",
            "j    dog  3.0       1     False\n"
          ]
        }
      ],
      "source": [
        "df['priority'] = df['priority'].apply(lambda x: True if x == 'yes' else False )\n",
        "print(df)"
      ]
    },
    {
      "cell_type": "markdown",
      "metadata": {
        "id": "T9MVDUniFuRJ"
      },
      "source": [
        "**17.** In the 'animal' column, change the 'snake' entries to 'python'."
      ]
    },
    {
      "cell_type": "code",
      "execution_count": 25,
      "metadata": {
        "id": "pWNj4Vl4FuRJ",
        "colab": {
          "base_uri": "https://localhost:8080/"
        },
        "outputId": "f76b13b4-5aa6-4f56-aaa9-9abfd594a6da"
      },
      "outputs": [
        {
          "output_type": "stream",
          "name": "stdout",
          "text": [
            "   animal  age  visits  priority\n",
            "a     cat  2.5       1      True\n",
            "b     cat  3.0       3      True\n",
            "c  python  0.5       2     False\n",
            "d     dog  NaN       3      True\n",
            "e     dog  5.0       2     False\n",
            "f     cat  1.5       3     False\n",
            "g  python  4.5       1     False\n",
            "h     cat  NaN       1      True\n",
            "i     dog  7.0       2     False\n",
            "j     dog  3.0       1     False\n"
          ]
        }
      ],
      "source": [
        "df['animal'] = df['animal'].apply(lambda x: 'python' if x == 'snake' else x)\n",
        "print(df)"
      ]
    },
    {
      "cell_type": "markdown",
      "metadata": {
        "id": "DGqqB9QuKg-9"
      },
      "source": [
        "**18.** Load the ny-flights dataset to Python"
      ]
    },
    {
      "cell_type": "code",
      "execution_count": 26,
      "metadata": {
        "colab": {
          "base_uri": "https://localhost:8080/"
        },
        "id": "zyhOqRSNKg-9",
        "outputId": "67ac3f42-2a9c-4a5d-fd2f-b1395a5ba737"
      },
      "outputs": [
        {
          "output_type": "stream",
          "name": "stdout",
          "text": [
            "               fl_date unique_carrier  airline_id tail_num  fl_num origin  \\\n",
            "0  2014-01-01 00:00:00             AA       19805   N338AA       1    JFK   \n",
            "1  2014-01-01 00:00:00             AA       19805   N335AA       3    JFK   \n",
            "2  2014-01-01 00:00:00             AA       19805   N327AA      21    JFK   \n",
            "3  2014-01-01 00:00:00             AA       19805   N3EHAA      29    LGA   \n",
            "4  2014-01-01 00:00:00             AA       19805   N319AA     117    JFK   \n",
            "\n",
            "  dest  dep_time  dep_delay  arr_time  arr_delay  cancelled  \\\n",
            "0  LAX     914.0       14.0    1238.0       13.0        0.0   \n",
            "1  LAX    1157.0       -3.0    1523.0       13.0        0.0   \n",
            "2  LAX    1902.0        2.0    2224.0        9.0        0.0   \n",
            "3  PBI     722.0       -8.0    1014.0      -26.0        0.0   \n",
            "4  LAX    1347.0        2.0    1706.0        1.0        0.0   \n",
            "\n",
            "                   arr                  dep  \n",
            "0  2014-01-01 12:38:00  2014-01-01 09:14:00  \n",
            "1  2014-01-01 15:23:00  2014-01-01 11:57:00  \n",
            "2  2014-01-01 22:24:00  2014-01-01 19:02:00  \n",
            "3  2014-01-01 10:14:00  2014-01-01 07:22:00  \n",
            "4  2014-01-01 17:06:00  2014-01-01 13:47:00  \n"
          ]
        }
      ],
      "source": [
        "import pandas as pd\n",
        "\n",
        "path = '/content/ny-flights.csv'\n",
        "ny_flights = pd.read_csv(path)\n",
        "print(ny_flights.head())"
      ]
    },
    {
      "cell_type": "markdown",
      "metadata": {
        "id": "dSwqbx5uKg-9"
      },
      "source": [
        "**19.** Which airline ID is present maximum times in the dataset"
      ]
    },
    {
      "cell_type": "code",
      "execution_count": 27,
      "metadata": {
        "colab": {
          "base_uri": "https://localhost:8080/"
        },
        "id": "CvzDwWdXKg--",
        "outputId": "5eaeeb3b-e9aa-487a-8092-aebda6c1cb6d"
      },
      "outputs": [
        {
          "output_type": "stream",
          "name": "stdout",
          "text": [
            "Airline ID with the maximum occurrences: 20409\n"
          ]
        }
      ],
      "source": [
        "max_airline_id = ny_flights['airline_id'].value_counts().idxmax()\n",
        "print(\"Airline ID with the maximum occurrences:\", max_airline_id)"
      ]
    },
    {
      "cell_type": "markdown",
      "metadata": {
        "id": "a88hxcQaKg--"
      },
      "source": [
        "**20.** Draw a plot between dep_delay and arr_delay"
      ]
    },
    {
      "cell_type": "code",
      "execution_count": 37,
      "metadata": {
        "colab": {
          "base_uri": "https://localhost:8080/",
          "height": 564
        },
        "id": "ScV9pcAaKg_J",
        "outputId": "cbdf8f92-1e2c-4997-fa7f-478187f8062e"
      },
      "outputs": [
        {
          "output_type": "display_data",
          "data": {
            "text/plain": [
              "<Figure size 1000x600 with 1 Axes>"
            ],
            "image/png": "[encoded data removed]"
          },
          "metadata": {}
        }
      ],
      "source": [
        "import matplotlib.pyplot as plt\n",
        "\n",
        "plt.figure(figsize=(10, 6))\n",
        "plt.scatter(ny_flights['dep_delay'], ny_flights['arr_delay'], alpha=0.5)\n",
        "plt.title('Scatterplot between dep_delay and arr_delay')\n",
        "plt.xlabel('dep_delay')\n",
        "plt.ylabel('arr_delay')\n",
        "plt.grid(True)\n",
        "plt.show()"
      ]
    }
  ],
  "metadata": {
    "colab": {
      "provenance": []
    },
    "kernelspec": {
      "display_name": "Python 3",
      "language": "python",
      "name": "python3"
    },
    "language_info": {
      "codemirror_mode": {
        "name": "ipython",
        "version": 3
      },
      "file_extension": ".py",
      "mimetype": "text/x-python",
      "name": "python",
      "nbconvert_exporter": "python",
      "pygments_lexer": "ipython3",
      "version": "3.8.8"
    }
  },
  "nbformat": 4,
  "nbformat_minor": 0
}